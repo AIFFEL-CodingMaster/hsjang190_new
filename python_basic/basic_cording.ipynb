{
 "cells": [
  {
   "cell_type": "code",
   "execution_count": null,
   "metadata": {},
   "outputs": [],
   "source": []
  },
  {
   "cell_type": "code",
   "execution_count": 12,
   "metadata": {},
   "outputs": [],
   "source": [
    "name = 'Jang'\n",
    "height = 190\n",
    "weight = 90"
   ]
  },
  {
   "cell_type": "code",
   "execution_count": 13,
   "metadata": {
    "scrolled": true
   },
   "outputs": [
    {
     "name": "stdout",
     "output_type": "stream",
     "text": [
      "1\n",
      "1\n",
      "1 x 1 = 1\n",
      "1 x 2 = 1\n",
      "1 x 3 = 1\n",
      "1 x 4 = 1\n",
      "1 x 5 = 1\n",
      "1 x 6 = 1\n",
      "1 x 7 = 1\n",
      "1 x 8 = 1\n",
      "1 x 9 = 1\n"
     ]
    }
   ],
   "source": [
    "num = int(input())\n",
    "print(f\"{num}\")\n",
    "print(f\"{num} x 1 = {num*1}\")\n",
    "print(f\"{num} x 2 = {num*1}\")\n",
    "print(f\"{num} x 3 = {num*1}\")\n",
    "print(f\"{num} x 4 = {num*1}\")\n",
    "print(f\"{num} x 5 = {num*1}\")\n",
    "print(f\"{num} x 6 = {num*1}\")\n",
    "print(f\"{num} x 7 = {num*1}\")\n",
    "print(f\"{num} x 8 = {num*1}\")\n",
    "print(f\"{num} x 9 = {num*1}\")"
   ]
  },
  {
   "cell_type": "code",
   "execution_count": 14,
   "metadata": {},
   "outputs": [
    {
     "name": "stdout",
     "output_type": "stream",
     "text": [
      "{1, 2, 3, 4}\n"
     ]
    }
   ],
   "source": [
    "a = {1, 1, 2, 2, 3, 3, 4}\n",
    "print(a) "
   ]
  },
  {
   "cell_type": "code",
   "execution_count": 15,
   "metadata": {
    "scrolled": true
   },
   "outputs": [
    {
     "name": "stdout",
     "output_type": "stream",
     "text": [
      "140137155628800\n",
      "94244461092704\n",
      "140137164478800\n"
     ]
    }
   ],
   "source": [
    "a = [1, 2, 3]\n",
    "b = 100\n",
    "c = 100.0\n",
    "\n",
    "print(id(a))\n",
    "print(id(b))\n",
    "print(id(c))"
   ]
  },
  {
   "cell_type": "code",
   "execution_count": 16,
   "metadata": {},
   "outputs": [
    {
     "name": "stdout",
     "output_type": "stream",
     "text": [
      "94244461092704\n"
     ]
    }
   ],
   "source": [
    "d = b\n",
    "print(id(d))"
   ]
  },
  {
   "cell_type": "code",
   "execution_count": 17,
   "metadata": {},
   "outputs": [
    {
     "name": "stdout",
     "output_type": "stream",
     "text": [
      "True\n"
     ]
    }
   ],
   "source": [
    "print(a is not b)"
   ]
  },
  {
   "cell_type": "code",
   "execution_count": 20,
   "metadata": {},
   "outputs": [
    {
     "name": "stdout",
     "output_type": "stream",
     "text": [
      "True\n"
     ]
    }
   ],
   "source": [
    "print(b is d)"
   ]
  },
  {
   "cell_type": "code",
   "execution_count": null,
   "metadata": {},
   "outputs": [],
   "source": []
  }
 ],
 "metadata": {
  "kernelspec": {
   "display_name": "aiffel",
   "language": "python",
   "name": "aiffel"
  },
  "language_info": {
   "codemirror_mode": {
    "name": "ipython",
    "version": 3
   },
   "file_extension": ".py",
   "mimetype": "text/x-python",
   "name": "python",
   "nbconvert_exporter": "python",
   "pygments_lexer": "ipython3",
   "version": "3.7.9"
  }
 },
 "nbformat": 4,
 "nbformat_minor": 4
}
